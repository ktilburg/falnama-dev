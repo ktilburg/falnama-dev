{
 "cells": [
  {
   "cell_type": "markdown",
   "metadata": {},
   "source": [
    "# Welcome to the Falnama project \n",
    "\n",
    "> Explore this magnificent manuscript together with us"
   ]
  },
  {
   "cell_type": "markdown",
   "metadata": {},
   "source": [
    "In the fall of 2024 our small research team started to investigate the *Falnama* (Persian) manuscript that is hold by the Wereldmuseum Rotterdam. This beautiful manuscript consists of 35 loose pages and brings many questions to the table. To get an impression see three of the pages below. \n",
    "\n",
    "![](https://www.nicas-research.nl/wp-content/uploads/2025/02/3-pages-of-the-Falnama-of-35-1-2048x917.jpg)"
   ]
  },
  {
   "cell_type": "markdown",
   "metadata": {},
   "source": [
    "*Fig. 1 (left) Al Ar-Rida (Sjah of Khorasan), de Waterpeople and the Demon, Falnama folia 10 of 35, WM-71803-10 (middle) The Sun, folio 2, WM-71803-2 (right) Day of Judgement, folio 30, WM-71803-30, Collectie Wereldmuseum Rotterdam.*"
   ]
  },
  {
   "cell_type": "markdown",
   "metadata": {},
   "source": [
    "What are the stories of these pages? On this website we want to showcase this fascinating manuscript and highlight some of the hidden traces that evidence its origins and history. \n",
    "\n",
    "We also want to enable you to take a look into our 'research kitchen'. On which data do we base our findings? And how did we process this data? If you are interested into data science you can find the Python code that we developed to make this work in the second part of this website.    "
   ]
  }
 ],
 "metadata": {
  "kernelspec": {
   "display_name": "python3",
   "language": "python",
   "name": "python3"
  },
  "widgets": {
   "application/vnd.jupyter.widget-state+json": {
    "state": {},
    "version_major": 2,
    "version_minor": 0
   }
  }
 },
 "nbformat": 4,
 "nbformat_minor": 4
}
