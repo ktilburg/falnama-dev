{
 "cells": [
  {
   "cell_type": "raw",
   "id": "fd7c71be-5bcb-4811-a489-f0f0492f906a",
   "metadata": {},
   "source": [
    "---\n",
    "skip_exec: true\n",
    "---"
   ]
  },
  {
   "cell_type": "code",
   "execution_count": null,
   "id": "5ba0861a-94bf-475b-9887-06a65e86d82f",
   "metadata": {},
   "outputs": [],
   "source": [
    "#|default_exp downloader"
   ]
  },
  {
   "cell_type": "markdown",
   "id": "b28570e5-f7a0-4594-83ad-74a0fa122359",
   "metadata": {},
   "source": [
    "# It all starts with FAIR data \n",
    "\n",
    "> Towards cloud optimized analysis-ready data \n",
    "\n",
    "In the world of open heritage science, there is much ambition to share research data. In other words to make data FAIR: Findable, Accessible, Interoperable and Reusable. In practice however, it turns out to be extremely difficult to make this happen for a data intensive project like the Falnama project. Without analyzing this problem in detail we find that two major obstacles are the sheer size of all our data and the impossibility for a divers team of researchers to draw conclusions from the raw data directly. \n",
    "\n",
    "At this point in time, we can not solve this for the dozen different types of data that we collected in the Falnama project. As a first step we will focus here on a the analysis of a single type of data that we have looked at so far: our Macro XRF scanning data that was obtained thanks to the courtesy of Klassik Stiftung Weimar.  "
   ]
  },
  {
   "cell_type": "markdown",
   "id": "6fcda1c2-1c48-4e9d-9a39-8b57348b0dd2",
   "metadata": {},
   "source": [
    "## Downloading the Falnama data "
   ]
  },
  {
   "cell_type": "markdown",
   "id": "b78e843f-c521-482f-8dfd-46d9d59a54cc",
   "metadata": {},
   "source": [
    ":::(.callout-note} For now we have implemented access to our MA-XRF data only. Our intention is to expand functionality to other datasets in the near future. :::"
   ]
  },
  {
   "cell_type": "markdown",
   "id": "808c920b-eec7-4dfe-9000-ae8699c91420",
   "metadata": {},
   "source": [
    "To start working with the data import `Falnama_maxrf_data`. "
   ]
  },
  {
   "cell_type": "code",
   "execution_count": null,
   "id": "ea84562f-dad7-440d-9383-1aabcbc674b6",
   "metadata": {},
   "outputs": [],
   "source": [
    "from falnama import Falnama_maxrf_data "
   ]
  },
  {
   "cell_type": "markdown",
   "id": "08079930-57e8-41e4-a0f8-1504934a5421",
   "metadata": {},
   "source": [
    "To list which data filenames are included in this dataset, initialize and use the `.show_registry_files()`. "
   ]
  },
  {
   "cell_type": "code",
   "execution_count": null,
   "id": "183e9df8-7d34-4ae3-8607-eaa2d9007314",
   "metadata": {},
   "outputs": [
    {
     "data": {
      "text/plain": [
       "['WM-71803-01_400_600_50.datastack',\n",
       " 'WM-71803-03_250_300_50.datastack',\n",
       " 'WM-71803-08_250_300_50.datastack',\n",
       " 'WM-71803-10_250_300_50.datastack',\n",
       " 'WM-71803-12_250_300_50.datastack',\n",
       " 'WM-71803-13_400_600_50.datastack',\n",
       " 'WM-71803-17_400_600_50.datastack',\n",
       " 'WM-71803-18_400_300_50_det.datastack',\n",
       " 'WM-71803-18_400_500_50.datastack',\n",
       " 'WM-71803-19_400_600_50.datastack',\n",
       " 'WM-71803-23_400_600_50.datastack',\n",
       " 'WM-71803-24_400_600_50.datastack',\n",
       " 'WM-71803-29_400_500_50.datastack',\n",
       " 'WM-71803-30_250_300_50.datastack',\n",
       " 'WM-71803-31_400_600_50.datastack',\n",
       " 'WM-71803-35_400_500_50.datastack']"
      ]
     },
     "execution_count": null,
     "metadata": {},
     "output_type": "execute_result"
    }
   ],
   "source": [
    "maxrf_data = Falnama_maxrf_data()\n",
    "maxrf_data.show_registry_files()"
   ]
  },
  {
   "cell_type": "markdown",
   "id": "00942cf9-ea86-4270-a6dd-d2e31e1af0f3",
   "metadata": {},
   "source": [
    "`Hi Koen, would be nice to implement fsspec based preview thumbnails here.`"
   ]
  },
  {
   "cell_type": "markdown",
   "id": "ebb3f489-9e24-4194-8fde-604112b1b4b1",
   "metadata": {},
   "source": [
    "Now it's up to you to decide which files you want to download from our cloud storage. You can download individual files using the `.download_file(file_name)` method like so: "
   ]
  },
  {
   "cell_type": "code",
   "execution_count": null,
   "id": "cbe7303e-4ae3-4d79-ae24-ebbabca9709d",
   "metadata": {},
   "outputs": [
    {
     "name": "stdout",
     "output_type": "stream",
     "text": [
      "Finished downloading\n"
     ]
    }
   ],
   "source": [
    "maxrf_data.download_file('WM-71803-01_400_600_50.datastack') "
   ]
  },
  {
   "cell_type": "markdown",
   "id": "422e342a-a66a-4360-8fd1-37a6a719d10e",
   "metadata": {},
   "source": [
    "Or download all the datastack files using the `.download_all()` method. "
   ]
  },
  {
   "cell_type": "code",
   "execution_count": null,
   "id": "68b2528d-666c-48ac-8873-51f50fa48d0a",
   "metadata": {},
   "outputs": [
    {
     "name": "stdout",
     "output_type": "stream",
     "text": [
      "Checked 1/16 files\n",
      "Checked 2/16 files\n"
     ]
    }
   ],
   "source": [
    "maxrf_data.download_all() # Warning: 62.8 GB!"
   ]
  },
  {
   "cell_type": "markdown",
   "id": "2956634d-0714-459f-b674-943c9fee2f8f",
   "metadata": {},
   "source": [
    "::: {.callout-warning}\n",
    "The datastacks used for this project are quite big in size, totaling **62.8 GB**. Make sure you have enough space on your device, since this download will take a while.\n",
    ":::"
   ]
  },
  {
   "cell_type": "markdown",
   "id": "af3a8192-b593-4585-916c-001e5623f5c1",
   "metadata": {},
   "source": [
    "After downloading all files you might be curious as to where they are stored. Normally they are all saved in the .cache folder within your JupyterLab/Hub files on your device.\n",
    "But if you want to know the exact location you can run the `.get_base_path()` method to see the exact location. "
   ]
  },
  {
   "cell_type": "code",
   "execution_count": null,
   "id": "1a2d3ee5-e495-4b73-915f-b82492961133",
   "metadata": {},
   "outputs": [
    {
     "data": {
      "text/plain": [
       "PosixPath('/media/frank/lonprojecten/2024-811_falnama-project/data/interim/maxrf/datastacks')"
      ]
     },
     "execution_count": null,
     "metadata": {},
     "output_type": "execute_result"
    }
   ],
   "source": [
    "maxrf_data.get_base_path()"
   ]
  },
  {
   "cell_type": "markdown",
   "id": "374fe176-c459-476b-96bb-2928af1d140a",
   "metadata": {},
   "source": [
    "For easy accesibility of the datastack files which are used all across this package you can use `downloader.get_datastack_files()`. This returns a list of file locations which you can use in all of the code requiring datastacks."
   ]
  },
  {
   "cell_type": "code",
   "execution_count": null,
   "id": "02d7c442-82d3-4ca8-884f-6f2206ccc926",
   "metadata": {},
   "outputs": [
    {
     "data": {
      "text/plain": [
       "['/media/frank/lonprojecten/2024-811_falnama-project/data/interim/maxrf/datastacks/WM-71803-01_400_600_50.datastack',\n",
       " '/media/frank/lonprojecten/2024-811_falnama-project/data/interim/maxrf/datastacks/WM-71803-03_250_300_50.datastack',\n",
       " '/media/frank/lonprojecten/2024-811_falnama-project/data/interim/maxrf/datastacks/WM-71803-08_250_300_50.datastack',\n",
       " '/media/frank/lonprojecten/2024-811_falnama-project/data/interim/maxrf/datastacks/WM-71803-10_250_300_50.datastack',\n",
       " '/media/frank/lonprojecten/2024-811_falnama-project/data/interim/maxrf/datastacks/WM-71803-12_250_300_50.datastack',\n",
       " '/media/frank/lonprojecten/2024-811_falnama-project/data/interim/maxrf/datastacks/WM-71803-13_400_600_50.datastack',\n",
       " '/media/frank/lonprojecten/2024-811_falnama-project/data/interim/maxrf/datastacks/WM-71803-17_400_600_50.datastack',\n",
       " '/media/frank/lonprojecten/2024-811_falnama-project/data/interim/maxrf/datastacks/WM-71803-18_400_300_50_det.datastack',\n",
       " '/media/frank/lonprojecten/2024-811_falnama-project/data/interim/maxrf/datastacks/WM-71803-18_400_500_50.datastack',\n",
       " '/media/frank/lonprojecten/2024-811_falnama-project/data/interim/maxrf/datastacks/WM-71803-19_400_600_50.datastack',\n",
       " '/media/frank/lonprojecten/2024-811_falnama-project/data/interim/maxrf/datastacks/WM-71803-23_400_600_50.datastack',\n",
       " '/media/frank/lonprojecten/2024-811_falnama-project/data/interim/maxrf/datastacks/WM-71803-24_400_600_50.datastack',\n",
       " '/media/frank/lonprojecten/2024-811_falnama-project/data/interim/maxrf/datastacks/WM-71803-29_400_500_50.datastack',\n",
       " '/media/frank/lonprojecten/2024-811_falnama-project/data/interim/maxrf/datastacks/WM-71803-30_250_300_50.datastack',\n",
       " '/media/frank/lonprojecten/2024-811_falnama-project/data/interim/maxrf/datastacks/WM-71803-31_400_600_50.datastack',\n",
       " '/media/frank/lonprojecten/2024-811_falnama-project/data/interim/maxrf/datastacks/WM-71803-35_400_500_50.datastack']"
      ]
     },
     "execution_count": null,
     "metadata": {},
     "output_type": "execute_result"
    }
   ],
   "source": [
    "datastack_files = maxrf_data.get_datastack_files()\n",
    "datastack_files"
   ]
  },
  {
   "cell_type": "markdown",
   "id": "75846987-33cf-4700-9782-841782e4e860",
   "metadata": {},
   "source": [
    "# FUNCTIONS"
   ]
  },
  {
   "cell_type": "code",
   "execution_count": null,
   "id": "9fb85167-eb66-4735-b33a-f86f17924d76",
   "metadata": {},
   "outputs": [],
   "source": [
    "#|export\n",
    "import pooch\n",
    "import tqdm\n",
    "from glob import glob"
   ]
  },
  {
   "cell_type": "code",
   "execution_count": null,
   "id": "24a3565c-ab09-4d80-ac92-ea25f2f07b70",
   "metadata": {},
   "outputs": [],
   "source": [
    "#|export\n",
    "class Falnama_maxrf_data: \n",
    "    '''Use this class to download MA-XRF data to download and cache the '.datastack' files onto your local computer once. \n",
    "\n",
    "    In subsequent sessions you can conveniently access this data for further processing. \n",
    "\n",
    "    WARNING: \n",
    "    The total amount of MA-XRF data is quite large (62.8 GB).\n",
    "    Depending on your internet bandwidth it might take an hour or longer to download them. \n",
    "    \n",
    "    '''\n",
    "    def __init__(self):\n",
    "        '''Creates the downloader object, use this to call it's methods.'''\n",
    "        self.downloader = pooch.create(path=pooch.os_cache(\"falnama\"),\n",
    "                    base_url=\"https://f002.backblazeb2.com/file/falnama-data/datastacks/\",\n",
    "                    registry={\"WM-71803-01_400_600_50.datastack\" : \"ee2af34dcbea270de797003500400e7f0655654838bafc880d0943a440283411\",\n",
    "                            \"WM-71803-03_250_300_50.datastack\" : \"ad5bff448f32d4ac4dac46ae6e516af1c96f64e9ced17e3021124f21a5dd4669\",\n",
    "                            \"WM-71803-08_250_300_50.datastack\" : \"14b6ac5fc8acad456ad39b0dd0acbaf6fd9655732a1d11c437fcc0652b753996\",\n",
    "                            \"WM-71803-10_250_300_50.datastack\" : \"5e76db5bfc4b764178e824a7fc6caf5f3e49e64a329dc92691673b5accd0f430\",\n",
    "                            \"WM-71803-12_250_300_50.datastack\" : \"cf0d12cda57a2f348abe1cf29f450131d97e4845d78da20d270a340e9e103db7\",\n",
    "                            \"WM-71803-13_400_600_50.datastack\" : \"e67fd574fa2be48dfaa4cd08feb592c560575a0956cb84d7307760d8de7674c2\",\n",
    "                            \"WM-71803-17_400_600_50.datastack\" : \"83d978ab426844842318cc3a8daf32ab749b1fe81657ca455e0289e94b9ffcf9\",\n",
    "                            \"WM-71803-18_400_300_50_det.datastack\" : \"97bc254b0848172501bf4a96ebf8bd7862e1285607e060bd37cb973cff556226\",\n",
    "                            \"WM-71803-18_400_500_50.datastack\" : \"93f21e5a078f9091a9139ffe8446003ab4eacfcd579221ecccd63b31220dcc27\",\n",
    "                            \"WM-71803-19_400_600_50.datastack\" : \"b0d57800439b2824dfa148510728d18b195167d6f0b38c0539cf11b9bf3176b1\",\n",
    "                            \"WM-71803-23_400_600_50.datastack\" : \"c76b90cd11096b364e7f10fcda67b61459c6ce0bdec0e816d7cc3d4ec70a238f\",\n",
    "                            \"WM-71803-24_400_600_50.datastack\" : \"964603613e2882f570472357a303de232f0afe6a82de692c4ec7d78cb765bd4a\",\n",
    "                            \"WM-71803-29_400_500_50.datastack\" : \"82647269b4b9361f9596f327e64f3b17a1b0512628eb9ed82c344edc796ae26c\",\n",
    "                            \"WM-71803-30_250_300_50.datastack\" : \"af8e1bd23b5cec8e4e710dce050a6ade6bd94660d605650cc6bf27b1fd7d5076\",\n",
    "                            \"WM-71803-31_400_600_50.datastack\" : \"99a747ddf664263f4b1743db0e13657a2e6313fd6aed1088df47c691b6a40c75\",\n",
    "                            \"WM-71803-35_400_500_50.datastack\" : \"9742160af6b274fed19dd5e1b1ab7ef4ffe7c430e9063ee3b0924bb17309a42e\"},\n",
    "                    env='FALNAMA_CACHE')\n",
    "    \n",
    "    def show_registry_files(self):\n",
    "        '''Prints all files currently in the downloader registry.'''\n",
    "        return self.downloader.registry_files\n",
    "\n",
    "    def download_file(self, file_name):\n",
    "        '''Uses Pooch.fetch to download a file from the registry.'''\n",
    "        self.downloader.fetch(file_name, progressbar=True)\n",
    "        print('Finished downloading')\n",
    "    \n",
    "    def download_all(self):\n",
    "        '''Downloads all files found in the downloaders registry.'''\n",
    "        for i, datastack_path in enumerate(self.downloader.registry_files):\n",
    "            total = len(self.downloader.registry_files)\n",
    "            datastack_file = self.downloader.fetch(datastack_path, progressbar=True)\n",
    "            print(f\"Checked {i+1}/{total} files\")\n",
    "        print(\"All data is up to date!\")\n",
    "    \n",
    "    def get_base_path(self):\n",
    "        '''Returns the base path of where the downloader stores your files, almost always found in the jupyter notebook .cache folder.'''\n",
    "        return self.downloader.abspath\n",
    "    \n",
    "    def get_datastack_files(self):\n",
    "        '''Looks for all files ending in .datastack and returns the list of paths where these are located.'''\n",
    "        datastack_files = sorted(glob(f'{self.downloader.abspath}/*.datastack', recursive=True))\n",
    "        return datastack_files"
   ]
  },
  {
   "cell_type": "code",
   "execution_count": null,
   "id": "6968332e-9f91-4e50-9f67-9eead5585ee8",
   "metadata": {},
   "outputs": [],
   "source": []
  }
 ],
 "metadata": {
  "kernelspec": {
   "display_name": "python3",
   "language": "python",
   "name": "python3"
  },
  "widgets": {
   "application/vnd.jupyter.widget-state+json": {
    "state": {},
    "version_major": 2,
    "version_minor": 0
   }
  }
 },
 "nbformat": 4,
 "nbformat_minor": 5
}
