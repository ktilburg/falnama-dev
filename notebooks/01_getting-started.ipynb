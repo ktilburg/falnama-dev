{
 "cells": [
  {
   "cell_type": "markdown",
   "id": "c198d081-1123-446e-8d5f-79f4baf35d5c",
   "metadata": {},
   "source": [
    "# Getting started with Python\n",
    "\n",
    "> Up and running in 5 minutes... "
   ]
  },
  {
   "cell_type": "markdown",
   "id": "b6ec5cdb-df45-44c1-b3c5-f93d07cc9aa8",
   "metadata": {},
   "source": [
    "n order to make full use of the `falnama-dev` Python package, you need to be able to install Python packages and run Python code in Jupyter notebooks on your computer. The quickest and easiest way to get started with Jupyter notebooks is by downloading and installing the JupyterLab Desktop (JLD) installer for your operating system from the [official github repository](https://github.com/jupyterlab/jupyterlab-desktop#installation)."
   ]
  },
  {
   "cell_type": "markdown",
   "id": "3b7e75d5-2bcd-4c63-a687-72dd0cf043b6",
   "metadata": {},
   "source": [
    "![](https://github.com/jupyterlab/jupyterlab-desktop/raw/master/media/jupyterlab-desktop.png)"
   ]
  },
  {
   "cell_type": "markdown",
   "id": "e679748d-3549-476d-bc51-c797578d3a4f",
   "metadata": {},
   "source": [
    "::: {.callout-note} The first time you start JupyterLab Desktop you additionally need to install the default Python environment from the start menu. To do so you need to hoover and click on the word 'install' on the bottom of the start up screen.\n",
    "\n",
    ":::"
   ]
  },
  {
   "attachments": {},
   "cell_type": "markdown",
   "id": "83932f3c-0b30-43f7-a995-b400d450b8c9",
   "metadata": {},
   "source": [
    "Finally you can install or update (with the `-U` option) the `falnama-dev` package directly from this github repository. This is done by executing this command in a terminal in Jupyterlab:  \n",
    "\n",
    "    pip install git+https://github.com/fligt/falnama-dev \n",
    "\n",
    "For more information about Jupyterlab Desktop see the [JLD user guide](https://github.com/jupyterlab/jupyterlab-desktop/blob/master/user-guide.md) \n",
    "\n",
    "**That is it! You are now ready to explore the Falnama data together with us!**"
   ]
  }
 ],
 "metadata": {
  "kernelspec": {
   "display_name": "python3",
   "language": "python",
   "name": "python3"
  },
  "widgets": {
   "application/vnd.jupyter.widget-state+json": {
    "state": {},
    "version_major": 2,
    "version_minor": 0
   }
  }
 },
 "nbformat": 4,
 "nbformat_minor": 5
}
